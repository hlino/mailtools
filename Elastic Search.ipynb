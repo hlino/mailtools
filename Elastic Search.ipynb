{
 "cells": [
  {
   "cell_type": "code",
   "execution_count": 17,
   "metadata": {},
   "outputs": [],
   "source": [
    "#https://towardsdatascience.com/getting-started-with-elasticsearch-in-python-c3598e718380\n",
    "#https://tryolabs.com/blog/2015/02/17/python-elasticsearch-first-steps/\n",
    "from elasticsearch import Elasticsearch"
   ]
  },
  {
   "cell_type": "code",
   "execution_count": 3,
   "metadata": {},
   "outputs": [],
   "source": [
    "es = Elasticsearch([{'host':'localhost', 'port':9200}])"
   ]
  },
  {
   "cell_type": "code",
   "execution_count": 4,
   "metadata": {},
   "outputs": [
    {
     "data": {
      "text/plain": [
       "{'mbox': {'aliases': {}}}"
      ]
     },
     "execution_count": 4,
     "metadata": {},
     "output_type": "execute_result"
    }
   ],
   "source": [
    "es.indices.get_alias(\"*\")"
   ]
  },
  {
   "cell_type": "code",
   "execution_count": 9,
   "metadata": {},
   "outputs": [],
   "source": [
    "#https://www.elastic.co/guide/en/elasticsearch/reference/current/mapping.html\n",
    "request_body = {\n",
    "    \"settings\" : {\n",
    "        \"number_of_shards\": 1,\n",
    "        \"number_of_replicas\": 0\n",
    "    },\n",
    "    \"mappings\" : {\n",
    "        \"mail\" : {\n",
    "            \"properties\" : {\n",
    "                \"message_ID\" : {\n",
    "                    \"type\" : \"integer\"\n",
    "                },\n",
    "                \"From\" : {\n",
    "                    \"type\" : \"text\"\n",
    "                },\n",
    "                \"To\" : {\n",
    "                    \"type\" : \"text\"\n",
    "                },\n",
    "                \"Date\" : {\n",
    "                    \"type\" : \"date\",\n",
    "                    \"format\": \"yyyy-MM-dd\"\n",
    "                },\n",
    "                \"Subject\" : {\n",
    "                    \"type\" : \"text\"\n",
    "                },\n",
    "                \"Body\" : {\n",
    "                    \"type\" : \"text\"\n",
    "                },\n",
    "                \"Attachment\" : {\n",
    "                    \"type\" : \"boolean\"\n",
    "                },\n",
    "            }\n",
    "        }\n",
    "    }\n",
    "}"
   ]
  },
  {
   "cell_type": "code",
   "execution_count": null,
   "metadata": {},
   "outputs": [],
   "source": [
    "es.indices.create(index=\"mbox\", body=request_body)"
   ]
  },
  {
   "cell_type": "code",
   "execution_count": 10,
   "metadata": {},
   "outputs": [
    {
     "data": {
      "text/plain": [
       "{'mbox': {'aliases': {}}}"
      ]
     },
     "execution_count": 10,
     "metadata": {},
     "output_type": "execute_result"
    }
   ],
   "source": [
    "es.indices.get_alias(\"*\")"
   ]
  },
  {
   "cell_type": "code",
   "execution_count": 14,
   "metadata": {},
   "outputs": [],
   "source": [
    "def addEmail(indexName, ID, From, To, Date, Subject, Body, Attachment):\n",
    "    body = {\n",
    "        \"message_ID\" : ID,\n",
    "        \"From\" : From,\n",
    "        \"To\" : To,\n",
    "        \"Date\" : Date,\n",
    "        \"Subject\" : Subject,\n",
    "        \"Body\" : Body,\n",
    "        \"Attachment\" : Attachment,\n",
    "    }\n",
    "    es.index(index=indexName, doc_type='mail', id = ID, body = body)"
   ]
  },
  {
   "cell_type": "code",
   "execution_count": 15,
   "metadata": {},
   "outputs": [],
   "source": [
    "addEmail(\"mbox\", 1, \"hlinowes@gmail.com\", \"joe@gmail.com\", \"2018-11-08\", \"TEST\", \"Hi Joe, this is a test email.\", False)"
   ]
  },
  {
   "cell_type": "code",
   "execution_count": 16,
   "metadata": {},
   "outputs": [
    {
     "data": {
      "text/plain": [
       "{'mbox': {'aliases': {}}}"
      ]
     },
     "execution_count": 16,
     "metadata": {},
     "output_type": "execute_result"
    }
   ],
   "source": [
    "es.indices.get_alias(\"*\")"
   ]
  },
  {
   "cell_type": "code",
   "execution_count": 19,
   "metadata": {},
   "outputs": [
    {
     "data": {
      "text/plain": [
       "{'_index': 'mbox',\n",
       " '_type': 'mail',\n",
       " '_id': '1',\n",
       " '_version': 2,\n",
       " 'found': True,\n",
       " '_source': {'message_ID': 1,\n",
       "  'From': 'hlinowes@gmail.com',\n",
       "  'To': 'joe@gmail.com',\n",
       "  'Date': '2018-11-08',\n",
       "  'Subject': 'TEST',\n",
       "  'Body': 'Hi Joe, this is a test email.',\n",
       "  'Attachment': False}}"
      ]
     },
     "execution_count": 19,
     "metadata": {},
     "output_type": "execute_result"
    }
   ],
   "source": [
    "es.get(index=\"mbox\", doc_type=\"mail\", id=1)"
   ]
  },
  {
   "cell_type": "code",
   "execution_count": 21,
   "metadata": {},
   "outputs": [
    {
     "data": {
      "text/plain": [
       "{'took': 41,\n",
       " 'timed_out': False,\n",
       " '_shards': {'total': 1, 'successful': 1, 'skipped': 0, 'failed': 0},\n",
       " 'hits': {'total': 1,\n",
       "  'max_score': 0.2876821,\n",
       "  'hits': [{'_index': 'mbox',\n",
       "    '_type': 'mail',\n",
       "    '_id': '1',\n",
       "    '_score': 0.2876821,\n",
       "    '_source': {'message_ID': 1,\n",
       "     'From': 'hlinowes@gmail.com',\n",
       "     'To': 'joe@gmail.com',\n",
       "     'Date': '2018-11-08',\n",
       "     'Subject': 'TEST',\n",
       "     'Body': 'Hi Joe, this is a test email.',\n",
       "     'Attachment': False}}]}}"
      ]
     },
     "execution_count": 21,
     "metadata": {},
     "output_type": "execute_result"
    }
   ],
   "source": [
    "es.search(index=\"mbox\", body={\"query\": {\"match\": {'From':'hlinowes'}}})"
   ]
  },
  {
   "cell_type": "code",
   "execution_count": null,
   "metadata": {},
   "outputs": [],
   "source": []
  }
 ],
 "metadata": {
  "kernelspec": {
   "display_name": "Python 3",
   "language": "python",
   "name": "python3"
  },
  "language_info": {
   "codemirror_mode": {
    "name": "ipython",
    "version": 3
   },
   "file_extension": ".py",
   "mimetype": "text/x-python",
   "name": "python",
   "nbconvert_exporter": "python",
   "pygments_lexer": "ipython3",
   "version": "3.6.6"
  }
 },
 "nbformat": 4,
 "nbformat_minor": 2
}
